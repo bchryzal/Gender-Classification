{
 "cells": [
  {
   "cell_type": "markdown",
   "id": "628e9105",
   "metadata": {
    "_cell_guid": "b1076dfc-b9ad-4769-8c92-a6c4dae69d19",
    "_uuid": "8f2839f25d086af736a60e9eeb907d3b93b6e0e5",
    "papermill": {
     "duration": 0.039272,
     "end_time": "2022-05-10T11:13:25.503178",
     "exception": false,
     "start_time": "2022-05-10T11:13:25.463906",
     "status": "completed"
    },
    "tags": []
   },
   "source": [
    "# Hello Guys!"
   ]
  },
  {
   "cell_type": "markdown",
   "id": "56f47aea",
   "metadata": {
    "papermill": {
     "duration": 0.037479,
     "end_time": "2022-05-10T11:13:25.578582",
     "exception": false,
     "start_time": "2022-05-10T11:13:25.541103",
     "status": "completed"
    },
    "tags": []
   },
   "source": [
    "## Context\n",
    "\n",
    "Gender is a social construct. The way males and females are treated differently since birth moulds their behaviour and personal preferences into what society expects for their gender.\n",
    "\n",
    "This small dataset is designed to provide an idea about whether a person's gender can be predicted with an accuracy significantly above 50% based on their personal preferences.\n",
    "\n",
    "[More informations](https://www.kaggle.com/competitions/dsm-l0-genderclassification/overview/description)"
   ]
  },
  {
   "cell_type": "code",
   "execution_count": 1,
   "id": "8f2ef8fc",
   "metadata": {
    "execution": {
     "iopub.execute_input": "2022-05-10T11:13:25.657734Z",
     "iopub.status.busy": "2022-05-10T11:13:25.656595Z",
     "iopub.status.idle": "2022-05-10T11:13:28.945528Z",
     "shell.execute_reply": "2022-05-10T11:13:28.944483Z",
     "shell.execute_reply.started": "2022-04-07T13:07:17.186488Z"
    },
    "papermill": {
     "duration": 3.329625,
     "end_time": "2022-05-10T11:13:28.945698",
     "exception": false,
     "start_time": "2022-05-10T11:13:25.616073",
     "status": "completed"
    },
    "tags": []
   },
   "outputs": [
    {
     "data": {
      "text/html": [
       "<style type='text/css'>\n",
       ".datatable table.frame { margin-bottom: 0; }\n",
       ".datatable table.frame thead { border-bottom: none; }\n",
       ".datatable table.frame tr.coltypes td {  color: #FFFFFF;  line-height: 6px;  padding: 0 0.5em;}\n",
       ".datatable .bool    { background: #DDDD99; }\n",
       ".datatable .object  { background: #565656; }\n",
       ".datatable .int     { background: #5D9E5D; }\n",
       ".datatable .float   { background: #4040CC; }\n",
       ".datatable .str     { background: #CC4040; }\n",
       ".datatable .time    { background: #40CC40; }\n",
       ".datatable .row_index {  background: var(--jp-border-color3);  border-right: 1px solid var(--jp-border-color0);  color: var(--jp-ui-font-color3);  font-size: 9px;}\n",
       ".datatable .frame tbody td { text-align: left; }\n",
       ".datatable .frame tr.coltypes .row_index {  background: var(--jp-border-color0);}\n",
       ".datatable th:nth-child(2) { padding-left: 12px; }\n",
       ".datatable .hellipsis {  color: var(--jp-cell-editor-border-color);}\n",
       ".datatable .vellipsis {  background: var(--jp-layout-color0);  color: var(--jp-cell-editor-border-color);}\n",
       ".datatable .na {  color: var(--jp-cell-editor-border-color);  font-size: 80%;}\n",
       ".datatable .sp {  opacity: 0.25;}\n",
       ".datatable .footer { font-size: 9px; }\n",
       ".datatable .frame_dimensions {  background: var(--jp-border-color3);  border-top: 1px solid var(--jp-border-color0);  color: var(--jp-ui-font-color3);  display: inline-block;  opacity: 0.6;  padding: 1px 10px 1px 5px;}\n",
       "</style>\n"
      ],
      "text/plain": [
       "<IPython.core.display.HTML object>"
      ]
     },
     "metadata": {},
     "output_type": "display_data"
    }
   ],
   "source": [
    "import numpy as np # linear algebra\n",
    "import pandas as pd # data processing, CSV file I/O (e.g. pd.read_csv)\n",
    "\n",
    "from catboost import CatBoostClassifier\n",
    "import lightgbm as lgb\n",
    "import xgboost as xgb\n",
    "from sklearn.preprocessing import LabelEncoder\n",
    "\n",
    "import optuna\n",
    "\n",
    "# Metrics\n",
    "from sklearn.metrics import accuracy_score"
   ]
  },
  {
   "cell_type": "markdown",
   "id": "eaad0d59",
   "metadata": {
    "papermill": {
     "duration": 0.037954,
     "end_time": "2022-05-10T11:13:29.022176",
     "exception": false,
     "start_time": "2022-05-10T11:13:28.984222",
     "status": "completed"
    },
    "tags": []
   },
   "source": [
    "# Load data"
   ]
  },
  {
   "cell_type": "code",
   "execution_count": 2,
   "id": "d6d6e51e",
   "metadata": {
    "execution": {
     "iopub.execute_input": "2022-05-10T11:13:29.104776Z",
     "iopub.status.busy": "2022-05-10T11:13:29.104120Z",
     "iopub.status.idle": "2022-05-10T11:13:29.124325Z",
     "shell.execute_reply": "2022-05-10T11:13:29.124908Z",
     "shell.execute_reply.started": "2022-04-07T13:07:17.42412Z"
    },
    "papermill": {
     "duration": 0.062195,
     "end_time": "2022-05-10T11:13:29.125092",
     "exception": false,
     "start_time": "2022-05-10T11:13:29.062897",
     "status": "completed"
    },
    "tags": []
   },
   "outputs": [
    {
     "data": {
      "text/plain": [
       "((55, 6), (11, 6))"
      ]
     },
     "execution_count": 2,
     "metadata": {},
     "output_type": "execute_result"
    }
   ],
   "source": [
    "# Reading training and testing data\n",
    "train_data = pd.read_csv('/kaggle/input/dsm-l0-genderclassification/train.csv')\n",
    "test_data = pd.read_csv('/kaggle/input/dsm-l0-genderclassification/test.csv')\n",
    "\n",
    "train_data.shape, test_data.shape"
   ]
  },
  {
   "cell_type": "code",
   "execution_count": 3,
   "id": "3b7bec3d",
   "metadata": {
    "execution": {
     "iopub.execute_input": "2022-05-10T11:13:29.206045Z",
     "iopub.status.busy": "2022-05-10T11:13:29.205430Z",
     "iopub.status.idle": "2022-05-10T11:13:29.231285Z",
     "shell.execute_reply": "2022-05-10T11:13:29.231757Z",
     "shell.execute_reply.started": "2022-04-07T13:07:17.702254Z"
    },
    "papermill": {
     "duration": 0.067369,
     "end_time": "2022-05-10T11:13:29.231936",
     "exception": false,
     "start_time": "2022-05-10T11:13:29.164567",
     "status": "completed"
    },
    "tags": []
   },
   "outputs": [
    {
     "data": {
      "text/html": [
       "<div>\n",
       "<style scoped>\n",
       "    .dataframe tbody tr th:only-of-type {\n",
       "        vertical-align: middle;\n",
       "    }\n",
       "\n",
       "    .dataframe tbody tr th {\n",
       "        vertical-align: top;\n",
       "    }\n",
       "\n",
       "    .dataframe thead th {\n",
       "        text-align: right;\n",
       "    }\n",
       "</style>\n",
       "<table border=\"1\" class=\"dataframe\">\n",
       "  <thead>\n",
       "    <tr style=\"text-align: right;\">\n",
       "      <th></th>\n",
       "      <th>ID</th>\n",
       "      <th>Favorite Color</th>\n",
       "      <th>Favorite Music Genre</th>\n",
       "      <th>Favorite Beverage</th>\n",
       "      <th>Favorite Soft Drink</th>\n",
       "      <th>Gender</th>\n",
       "    </tr>\n",
       "  </thead>\n",
       "  <tbody>\n",
       "    <tr>\n",
       "      <th>0</th>\n",
       "      <td>1</td>\n",
       "      <td>Neutral</td>\n",
       "      <td>Hip hop</td>\n",
       "      <td>Vodka</td>\n",
       "      <td>Coca Cola/Pepsi</td>\n",
       "      <td>F</td>\n",
       "    </tr>\n",
       "    <tr>\n",
       "      <th>1</th>\n",
       "      <td>2</td>\n",
       "      <td>Warm</td>\n",
       "      <td>Rock</td>\n",
       "      <td>Wine</td>\n",
       "      <td>Coca Cola/Pepsi</td>\n",
       "      <td>F</td>\n",
       "    </tr>\n",
       "    <tr>\n",
       "      <th>2</th>\n",
       "      <td>3</td>\n",
       "      <td>Warm</td>\n",
       "      <td>Folk/Traditional</td>\n",
       "      <td>Whiskey</td>\n",
       "      <td>Fanta</td>\n",
       "      <td>F</td>\n",
       "    </tr>\n",
       "    <tr>\n",
       "      <th>3</th>\n",
       "      <td>4</td>\n",
       "      <td>Cool</td>\n",
       "      <td>Rock</td>\n",
       "      <td>Vodka</td>\n",
       "      <td>Coca Cola/Pepsi</td>\n",
       "      <td>F</td>\n",
       "    </tr>\n",
       "    <tr>\n",
       "      <th>4</th>\n",
       "      <td>5</td>\n",
       "      <td>Warm</td>\n",
       "      <td>Jazz/Blues</td>\n",
       "      <td>Doesn't drink</td>\n",
       "      <td>Fanta</td>\n",
       "      <td>F</td>\n",
       "    </tr>\n",
       "    <tr>\n",
       "      <th>5</th>\n",
       "      <td>6</td>\n",
       "      <td>Cool</td>\n",
       "      <td>Pop</td>\n",
       "      <td>Beer</td>\n",
       "      <td>Coca Cola/Pepsi</td>\n",
       "      <td>F</td>\n",
       "    </tr>\n",
       "    <tr>\n",
       "      <th>6</th>\n",
       "      <td>7</td>\n",
       "      <td>Warm</td>\n",
       "      <td>Pop</td>\n",
       "      <td>Whiskey</td>\n",
       "      <td>Fanta</td>\n",
       "      <td>F</td>\n",
       "    </tr>\n",
       "    <tr>\n",
       "      <th>7</th>\n",
       "      <td>8</td>\n",
       "      <td>Warm</td>\n",
       "      <td>Rock</td>\n",
       "      <td>Other</td>\n",
       "      <td>7UP/Sprite</td>\n",
       "      <td>F</td>\n",
       "    </tr>\n",
       "    <tr>\n",
       "      <th>8</th>\n",
       "      <td>9</td>\n",
       "      <td>Neutral</td>\n",
       "      <td>Pop</td>\n",
       "      <td>Wine</td>\n",
       "      <td>Coca Cola/Pepsi</td>\n",
       "      <td>F</td>\n",
       "    </tr>\n",
       "    <tr>\n",
       "      <th>9</th>\n",
       "      <td>10</td>\n",
       "      <td>Warm</td>\n",
       "      <td>Pop</td>\n",
       "      <td>Other</td>\n",
       "      <td>7UP/Sprite</td>\n",
       "      <td>F</td>\n",
       "    </tr>\n",
       "    <tr>\n",
       "      <th>10</th>\n",
       "      <td>11</td>\n",
       "      <td>Warm</td>\n",
       "      <td>Pop</td>\n",
       "      <td>Wine</td>\n",
       "      <td>7UP/Sprite</td>\n",
       "      <td>F</td>\n",
       "    </tr>\n",
       "    <tr>\n",
       "      <th>11</th>\n",
       "      <td>12</td>\n",
       "      <td>Warm</td>\n",
       "      <td>Electronic</td>\n",
       "      <td>Wine</td>\n",
       "      <td>Coca Cola/Pepsi</td>\n",
       "      <td>F</td>\n",
       "    </tr>\n",
       "    <tr>\n",
       "      <th>12</th>\n",
       "      <td>13</td>\n",
       "      <td>Cool</td>\n",
       "      <td>Rock</td>\n",
       "      <td>Beer</td>\n",
       "      <td>Coca Cola/Pepsi</td>\n",
       "      <td>F</td>\n",
       "    </tr>\n",
       "    <tr>\n",
       "      <th>13</th>\n",
       "      <td>14</td>\n",
       "      <td>Warm</td>\n",
       "      <td>Jazz/Blues</td>\n",
       "      <td>Wine</td>\n",
       "      <td>Coca Cola/Pepsi</td>\n",
       "      <td>F</td>\n",
       "    </tr>\n",
       "    <tr>\n",
       "      <th>14</th>\n",
       "      <td>15</td>\n",
       "      <td>Cool</td>\n",
       "      <td>Pop</td>\n",
       "      <td>Wine</td>\n",
       "      <td>7UP/Sprite</td>\n",
       "      <td>F</td>\n",
       "    </tr>\n",
       "    <tr>\n",
       "      <th>15</th>\n",
       "      <td>16</td>\n",
       "      <td>Cool</td>\n",
       "      <td>Rock</td>\n",
       "      <td>Other</td>\n",
       "      <td>Coca Cola/Pepsi</td>\n",
       "      <td>F</td>\n",
       "    </tr>\n",
       "    <tr>\n",
       "      <th>16</th>\n",
       "      <td>17</td>\n",
       "      <td>Cool</td>\n",
       "      <td>Rock</td>\n",
       "      <td>Other</td>\n",
       "      <td>Coca Cola/Pepsi</td>\n",
       "      <td>F</td>\n",
       "    </tr>\n",
       "    <tr>\n",
       "      <th>17</th>\n",
       "      <td>18</td>\n",
       "      <td>Cool</td>\n",
       "      <td>Pop</td>\n",
       "      <td>Doesn't drink</td>\n",
       "      <td>7UP/Sprite</td>\n",
       "      <td>F</td>\n",
       "    </tr>\n",
       "    <tr>\n",
       "      <th>18</th>\n",
       "      <td>19</td>\n",
       "      <td>Cool</td>\n",
       "      <td>Pop</td>\n",
       "      <td>Beer</td>\n",
       "      <td>Fanta</td>\n",
       "      <td>F</td>\n",
       "    </tr>\n",
       "    <tr>\n",
       "      <th>19</th>\n",
       "      <td>20</td>\n",
       "      <td>Warm</td>\n",
       "      <td>Jazz/Blues</td>\n",
       "      <td>Whiskey</td>\n",
       "      <td>Fanta</td>\n",
       "      <td>F</td>\n",
       "    </tr>\n",
       "    <tr>\n",
       "      <th>20</th>\n",
       "      <td>21</td>\n",
       "      <td>Cool</td>\n",
       "      <td>Rock</td>\n",
       "      <td>Vodka</td>\n",
       "      <td>Coca Cola/Pepsi</td>\n",
       "      <td>F</td>\n",
       "    </tr>\n",
       "    <tr>\n",
       "      <th>21</th>\n",
       "      <td>22</td>\n",
       "      <td>Warm</td>\n",
       "      <td>Pop</td>\n",
       "      <td>Other</td>\n",
       "      <td>Coca Cola/Pepsi</td>\n",
       "      <td>F</td>\n",
       "    </tr>\n",
       "    <tr>\n",
       "      <th>22</th>\n",
       "      <td>23</td>\n",
       "      <td>Cool</td>\n",
       "      <td>Folk/Traditional</td>\n",
       "      <td>Whiskey</td>\n",
       "      <td>7UP/Sprite</td>\n",
       "      <td>F</td>\n",
       "    </tr>\n",
       "    <tr>\n",
       "      <th>23</th>\n",
       "      <td>24</td>\n",
       "      <td>Warm</td>\n",
       "      <td>R&amp;B and soul</td>\n",
       "      <td>Whiskey</td>\n",
       "      <td>Coca Cola/Pepsi</td>\n",
       "      <td>F</td>\n",
       "    </tr>\n",
       "    <tr>\n",
       "      <th>24</th>\n",
       "      <td>25</td>\n",
       "      <td>Cool</td>\n",
       "      <td>Pop</td>\n",
       "      <td>Beer</td>\n",
       "      <td>Other</td>\n",
       "      <td>F</td>\n",
       "    </tr>\n",
       "    <tr>\n",
       "      <th>25</th>\n",
       "      <td>26</td>\n",
       "      <td>Cool</td>\n",
       "      <td>Pop</td>\n",
       "      <td>Doesn't drink</td>\n",
       "      <td>Other</td>\n",
       "      <td>F</td>\n",
       "    </tr>\n",
       "    <tr>\n",
       "      <th>26</th>\n",
       "      <td>27</td>\n",
       "      <td>Neutral</td>\n",
       "      <td>Rock</td>\n",
       "      <td>Beer</td>\n",
       "      <td>Coca Cola/Pepsi</td>\n",
       "      <td>F</td>\n",
       "    </tr>\n",
       "    <tr>\n",
       "      <th>27</th>\n",
       "      <td>28</td>\n",
       "      <td>Cool</td>\n",
       "      <td>R&amp;B and soul</td>\n",
       "      <td>Beer</td>\n",
       "      <td>Coca Cola/Pepsi</td>\n",
       "      <td>F</td>\n",
       "    </tr>\n",
       "    <tr>\n",
       "      <th>28</th>\n",
       "      <td>29</td>\n",
       "      <td>Warm</td>\n",
       "      <td>R&amp;B and soul</td>\n",
       "      <td>Wine</td>\n",
       "      <td>Other</td>\n",
       "      <td>M</td>\n",
       "    </tr>\n",
       "    <tr>\n",
       "      <th>29</th>\n",
       "      <td>30</td>\n",
       "      <td>Neutral</td>\n",
       "      <td>Hip hop</td>\n",
       "      <td>Beer</td>\n",
       "      <td>7UP/Sprite</td>\n",
       "      <td>M</td>\n",
       "    </tr>\n",
       "    <tr>\n",
       "      <th>30</th>\n",
       "      <td>31</td>\n",
       "      <td>Warm</td>\n",
       "      <td>Electronic</td>\n",
       "      <td>Other</td>\n",
       "      <td>Coca Cola/Pepsi</td>\n",
       "      <td>M</td>\n",
       "    </tr>\n",
       "    <tr>\n",
       "      <th>31</th>\n",
       "      <td>32</td>\n",
       "      <td>Cool</td>\n",
       "      <td>Pop</td>\n",
       "      <td>Other</td>\n",
       "      <td>Fanta</td>\n",
       "      <td>M</td>\n",
       "    </tr>\n",
       "    <tr>\n",
       "      <th>32</th>\n",
       "      <td>33</td>\n",
       "      <td>Cool</td>\n",
       "      <td>Pop</td>\n",
       "      <td>Whiskey</td>\n",
       "      <td>Fanta</td>\n",
       "      <td>M</td>\n",
       "    </tr>\n",
       "    <tr>\n",
       "      <th>33</th>\n",
       "      <td>34</td>\n",
       "      <td>Warm</td>\n",
       "      <td>Rock</td>\n",
       "      <td>Vodka</td>\n",
       "      <td>7UP/Sprite</td>\n",
       "      <td>M</td>\n",
       "    </tr>\n",
       "    <tr>\n",
       "      <th>34</th>\n",
       "      <td>35</td>\n",
       "      <td>Cool</td>\n",
       "      <td>Rock</td>\n",
       "      <td>Vodka</td>\n",
       "      <td>Coca Cola/Pepsi</td>\n",
       "      <td>M</td>\n",
       "    </tr>\n",
       "    <tr>\n",
       "      <th>35</th>\n",
       "      <td>36</td>\n",
       "      <td>Neutral</td>\n",
       "      <td>Pop</td>\n",
       "      <td>Doesn't drink</td>\n",
       "      <td>7UP/Sprite</td>\n",
       "      <td>M</td>\n",
       "    </tr>\n",
       "    <tr>\n",
       "      <th>36</th>\n",
       "      <td>37</td>\n",
       "      <td>Warm</td>\n",
       "      <td>R&amp;B and soul</td>\n",
       "      <td>Doesn't drink</td>\n",
       "      <td>Coca Cola/Pepsi</td>\n",
       "      <td>M</td>\n",
       "    </tr>\n",
       "    <tr>\n",
       "      <th>37</th>\n",
       "      <td>38</td>\n",
       "      <td>Cool</td>\n",
       "      <td>Rock</td>\n",
       "      <td>Wine</td>\n",
       "      <td>7UP/Sprite</td>\n",
       "      <td>M</td>\n",
       "    </tr>\n",
       "    <tr>\n",
       "      <th>38</th>\n",
       "      <td>39</td>\n",
       "      <td>Cool</td>\n",
       "      <td>Folk/Traditional</td>\n",
       "      <td>Beer</td>\n",
       "      <td>Other</td>\n",
       "      <td>M</td>\n",
       "    </tr>\n",
       "    <tr>\n",
       "      <th>39</th>\n",
       "      <td>40</td>\n",
       "      <td>Cool</td>\n",
       "      <td>Hip hop</td>\n",
       "      <td>Beer</td>\n",
       "      <td>Coca Cola/Pepsi</td>\n",
       "      <td>M</td>\n",
       "    </tr>\n",
       "    <tr>\n",
       "      <th>40</th>\n",
       "      <td>41</td>\n",
       "      <td>Cool</td>\n",
       "      <td>R&amp;B and soul</td>\n",
       "      <td>Whiskey</td>\n",
       "      <td>7UP/Sprite</td>\n",
       "      <td>M</td>\n",
       "    </tr>\n",
       "    <tr>\n",
       "      <th>41</th>\n",
       "      <td>42</td>\n",
       "      <td>Warm</td>\n",
       "      <td>Hip hop</td>\n",
       "      <td>Beer</td>\n",
       "      <td>Coca Cola/Pepsi</td>\n",
       "      <td>M</td>\n",
       "    </tr>\n",
       "    <tr>\n",
       "      <th>42</th>\n",
       "      <td>43</td>\n",
       "      <td>Cool</td>\n",
       "      <td>R&amp;B and soul</td>\n",
       "      <td>Doesn't drink</td>\n",
       "      <td>Coca Cola/Pepsi</td>\n",
       "      <td>M</td>\n",
       "    </tr>\n",
       "    <tr>\n",
       "      <th>43</th>\n",
       "      <td>44</td>\n",
       "      <td>Cool</td>\n",
       "      <td>Rock</td>\n",
       "      <td>Doesn't drink</td>\n",
       "      <td>Coca Cola/Pepsi</td>\n",
       "      <td>M</td>\n",
       "    </tr>\n",
       "    <tr>\n",
       "      <th>44</th>\n",
       "      <td>45</td>\n",
       "      <td>Warm</td>\n",
       "      <td>Rock</td>\n",
       "      <td>Beer</td>\n",
       "      <td>Fanta</td>\n",
       "      <td>M</td>\n",
       "    </tr>\n",
       "    <tr>\n",
       "      <th>45</th>\n",
       "      <td>46</td>\n",
       "      <td>Cool</td>\n",
       "      <td>Electronic</td>\n",
       "      <td>Doesn't drink</td>\n",
       "      <td>Fanta</td>\n",
       "      <td>M</td>\n",
       "    </tr>\n",
       "    <tr>\n",
       "      <th>46</th>\n",
       "      <td>47</td>\n",
       "      <td>Warm</td>\n",
       "      <td>Folk/Traditional</td>\n",
       "      <td>Other</td>\n",
       "      <td>Fanta</td>\n",
       "      <td>M</td>\n",
       "    </tr>\n",
       "    <tr>\n",
       "      <th>47</th>\n",
       "      <td>48</td>\n",
       "      <td>Warm</td>\n",
       "      <td>Jazz/Blues</td>\n",
       "      <td>Vodka</td>\n",
       "      <td>Coca Cola/Pepsi</td>\n",
       "      <td>M</td>\n",
       "    </tr>\n",
       "    <tr>\n",
       "      <th>48</th>\n",
       "      <td>49</td>\n",
       "      <td>Cool</td>\n",
       "      <td>Pop</td>\n",
       "      <td>Whiskey</td>\n",
       "      <td>Other</td>\n",
       "      <td>M</td>\n",
       "    </tr>\n",
       "    <tr>\n",
       "      <th>49</th>\n",
       "      <td>50</td>\n",
       "      <td>Cool</td>\n",
       "      <td>Electronic</td>\n",
       "      <td>Whiskey</td>\n",
       "      <td>Coca Cola/Pepsi</td>\n",
       "      <td>M</td>\n",
       "    </tr>\n",
       "    <tr>\n",
       "      <th>50</th>\n",
       "      <td>51</td>\n",
       "      <td>Cool</td>\n",
       "      <td>Rock</td>\n",
       "      <td>Vodka</td>\n",
       "      <td>Coca Cola/Pepsi</td>\n",
       "      <td>M</td>\n",
       "    </tr>\n",
       "    <tr>\n",
       "      <th>51</th>\n",
       "      <td>52</td>\n",
       "      <td>Cool</td>\n",
       "      <td>Hip hop</td>\n",
       "      <td>Beer</td>\n",
       "      <td>Coca Cola/Pepsi</td>\n",
       "      <td>M</td>\n",
       "    </tr>\n",
       "    <tr>\n",
       "      <th>52</th>\n",
       "      <td>53</td>\n",
       "      <td>Neutral</td>\n",
       "      <td>Hip hop</td>\n",
       "      <td>Doesn't drink</td>\n",
       "      <td>Fanta</td>\n",
       "      <td>M</td>\n",
       "    </tr>\n",
       "    <tr>\n",
       "      <th>53</th>\n",
       "      <td>54</td>\n",
       "      <td>Cool</td>\n",
       "      <td>Rock</td>\n",
       "      <td>Wine</td>\n",
       "      <td>Coca Cola/Pepsi</td>\n",
       "      <td>M</td>\n",
       "    </tr>\n",
       "    <tr>\n",
       "      <th>54</th>\n",
       "      <td>55</td>\n",
       "      <td>Cool</td>\n",
       "      <td>Electronic</td>\n",
       "      <td>Beer</td>\n",
       "      <td>Coca Cola/Pepsi</td>\n",
       "      <td>M</td>\n",
       "    </tr>\n",
       "  </tbody>\n",
       "</table>\n",
       "</div>"
      ],
      "text/plain": [
       "    ID Favorite Color Favorite Music Genre Favorite Beverage  \\\n",
       "0    1        Neutral              Hip hop             Vodka   \n",
       "1    2           Warm                 Rock              Wine   \n",
       "2    3           Warm     Folk/Traditional           Whiskey   \n",
       "3    4           Cool                 Rock             Vodka   \n",
       "4    5           Warm           Jazz/Blues     Doesn't drink   \n",
       "5    6           Cool                  Pop              Beer   \n",
       "6    7           Warm                  Pop           Whiskey   \n",
       "7    8           Warm                 Rock             Other   \n",
       "8    9        Neutral                  Pop              Wine   \n",
       "9   10           Warm                  Pop             Other   \n",
       "10  11           Warm                  Pop              Wine   \n",
       "11  12           Warm           Electronic              Wine   \n",
       "12  13           Cool                 Rock              Beer   \n",
       "13  14           Warm           Jazz/Blues              Wine   \n",
       "14  15           Cool                  Pop              Wine   \n",
       "15  16           Cool                 Rock             Other   \n",
       "16  17           Cool                 Rock             Other   \n",
       "17  18           Cool                  Pop     Doesn't drink   \n",
       "18  19           Cool                  Pop              Beer   \n",
       "19  20           Warm           Jazz/Blues           Whiskey   \n",
       "20  21           Cool                 Rock             Vodka   \n",
       "21  22           Warm                  Pop             Other   \n",
       "22  23           Cool     Folk/Traditional           Whiskey   \n",
       "23  24           Warm         R&B and soul           Whiskey   \n",
       "24  25           Cool                  Pop              Beer   \n",
       "25  26           Cool                  Pop     Doesn't drink   \n",
       "26  27        Neutral                 Rock              Beer   \n",
       "27  28           Cool         R&B and soul              Beer   \n",
       "28  29           Warm         R&B and soul              Wine   \n",
       "29  30        Neutral              Hip hop              Beer   \n",
       "30  31           Warm           Electronic             Other   \n",
       "31  32           Cool                  Pop             Other   \n",
       "32  33           Cool                  Pop           Whiskey   \n",
       "33  34           Warm                 Rock             Vodka   \n",
       "34  35           Cool                 Rock             Vodka   \n",
       "35  36        Neutral                  Pop     Doesn't drink   \n",
       "36  37           Warm         R&B and soul     Doesn't drink   \n",
       "37  38           Cool                 Rock              Wine   \n",
       "38  39           Cool     Folk/Traditional              Beer   \n",
       "39  40           Cool              Hip hop              Beer   \n",
       "40  41           Cool         R&B and soul           Whiskey   \n",
       "41  42           Warm              Hip hop              Beer   \n",
       "42  43           Cool         R&B and soul     Doesn't drink   \n",
       "43  44           Cool                 Rock     Doesn't drink   \n",
       "44  45           Warm                 Rock              Beer   \n",
       "45  46           Cool           Electronic     Doesn't drink   \n",
       "46  47           Warm     Folk/Traditional             Other   \n",
       "47  48           Warm           Jazz/Blues             Vodka   \n",
       "48  49           Cool                  Pop           Whiskey   \n",
       "49  50           Cool           Electronic           Whiskey   \n",
       "50  51           Cool                 Rock             Vodka   \n",
       "51  52           Cool              Hip hop              Beer   \n",
       "52  53        Neutral              Hip hop     Doesn't drink   \n",
       "53  54           Cool                 Rock              Wine   \n",
       "54  55           Cool           Electronic              Beer   \n",
       "\n",
       "   Favorite Soft Drink Gender  \n",
       "0      Coca Cola/Pepsi      F  \n",
       "1      Coca Cola/Pepsi      F  \n",
       "2                Fanta      F  \n",
       "3      Coca Cola/Pepsi      F  \n",
       "4                Fanta      F  \n",
       "5      Coca Cola/Pepsi      F  \n",
       "6                Fanta      F  \n",
       "7           7UP/Sprite      F  \n",
       "8      Coca Cola/Pepsi      F  \n",
       "9           7UP/Sprite      F  \n",
       "10          7UP/Sprite      F  \n",
       "11     Coca Cola/Pepsi      F  \n",
       "12     Coca Cola/Pepsi      F  \n",
       "13     Coca Cola/Pepsi      F  \n",
       "14          7UP/Sprite      F  \n",
       "15     Coca Cola/Pepsi      F  \n",
       "16     Coca Cola/Pepsi      F  \n",
       "17          7UP/Sprite      F  \n",
       "18               Fanta      F  \n",
       "19               Fanta      F  \n",
       "20     Coca Cola/Pepsi      F  \n",
       "21     Coca Cola/Pepsi      F  \n",
       "22          7UP/Sprite      F  \n",
       "23     Coca Cola/Pepsi      F  \n",
       "24               Other      F  \n",
       "25               Other      F  \n",
       "26     Coca Cola/Pepsi      F  \n",
       "27     Coca Cola/Pepsi      F  \n",
       "28               Other      M  \n",
       "29          7UP/Sprite      M  \n",
       "30     Coca Cola/Pepsi      M  \n",
       "31               Fanta      M  \n",
       "32               Fanta      M  \n",
       "33          7UP/Sprite      M  \n",
       "34     Coca Cola/Pepsi      M  \n",
       "35          7UP/Sprite      M  \n",
       "36     Coca Cola/Pepsi      M  \n",
       "37          7UP/Sprite      M  \n",
       "38               Other      M  \n",
       "39     Coca Cola/Pepsi      M  \n",
       "40          7UP/Sprite      M  \n",
       "41     Coca Cola/Pepsi      M  \n",
       "42     Coca Cola/Pepsi      M  \n",
       "43     Coca Cola/Pepsi      M  \n",
       "44               Fanta      M  \n",
       "45               Fanta      M  \n",
       "46               Fanta      M  \n",
       "47     Coca Cola/Pepsi      M  \n",
       "48               Other      M  \n",
       "49     Coca Cola/Pepsi      M  \n",
       "50     Coca Cola/Pepsi      M  \n",
       "51     Coca Cola/Pepsi      M  \n",
       "52               Fanta      M  \n",
       "53     Coca Cola/Pepsi      M  \n",
       "54     Coca Cola/Pepsi      M  "
      ]
     },
     "execution_count": 3,
     "metadata": {},
     "output_type": "execute_result"
    }
   ],
   "source": [
    "train_data"
   ]
  },
  {
   "cell_type": "code",
   "execution_count": 4,
   "id": "b06f3a2e",
   "metadata": {
    "execution": {
     "iopub.execute_input": "2022-05-10T11:13:29.325018Z",
     "iopub.status.busy": "2022-05-10T11:13:29.324350Z",
     "iopub.status.idle": "2022-05-10T11:13:29.327078Z",
     "shell.execute_reply": "2022-05-10T11:13:29.327548Z",
     "shell.execute_reply.started": "2022-04-07T13:07:17.974728Z"
    },
    "papermill": {
     "duration": 0.055036,
     "end_time": "2022-05-10T11:13:29.327709",
     "exception": false,
     "start_time": "2022-05-10T11:13:29.272673",
     "status": "completed"
    },
    "tags": []
   },
   "outputs": [
    {
     "data": {
      "text/html": [
       "<div>\n",
       "<style scoped>\n",
       "    .dataframe tbody tr th:only-of-type {\n",
       "        vertical-align: middle;\n",
       "    }\n",
       "\n",
       "    .dataframe tbody tr th {\n",
       "        vertical-align: top;\n",
       "    }\n",
       "\n",
       "    .dataframe thead th {\n",
       "        text-align: right;\n",
       "    }\n",
       "</style>\n",
       "<table border=\"1\" class=\"dataframe\">\n",
       "  <thead>\n",
       "    <tr style=\"text-align: right;\">\n",
       "      <th></th>\n",
       "      <th>ID</th>\n",
       "      <th>Favorite Color</th>\n",
       "      <th>Favorite Music Genre</th>\n",
       "      <th>Favorite Beverage</th>\n",
       "      <th>Favorite Soft Drink</th>\n",
       "      <th>Gender</th>\n",
       "    </tr>\n",
       "  </thead>\n",
       "  <tbody>\n",
       "    <tr>\n",
       "      <th>0</th>\n",
       "      <td>56</td>\n",
       "      <td>Cool</td>\n",
       "      <td>Rock</td>\n",
       "      <td>Vodka</td>\n",
       "      <td>7UP/Sprite</td>\n",
       "      <td>F</td>\n",
       "    </tr>\n",
       "    <tr>\n",
       "      <th>1</th>\n",
       "      <td>57</td>\n",
       "      <td>Cool</td>\n",
       "      <td>Pop</td>\n",
       "      <td>Other</td>\n",
       "      <td>7UP/Sprite</td>\n",
       "      <td>F</td>\n",
       "    </tr>\n",
       "    <tr>\n",
       "      <th>2</th>\n",
       "      <td>58</td>\n",
       "      <td>Cool</td>\n",
       "      <td>Pop</td>\n",
       "      <td>Doesn't drink</td>\n",
       "      <td>Coca Cola/Pepsi</td>\n",
       "      <td>F</td>\n",
       "    </tr>\n",
       "    <tr>\n",
       "      <th>3</th>\n",
       "      <td>59</td>\n",
       "      <td>Cool</td>\n",
       "      <td>Electronic</td>\n",
       "      <td>Doesn't drink</td>\n",
       "      <td>Fanta</td>\n",
       "      <td>F</td>\n",
       "    </tr>\n",
       "    <tr>\n",
       "      <th>4</th>\n",
       "      <td>60</td>\n",
       "      <td>Warm</td>\n",
       "      <td>Rock</td>\n",
       "      <td>Other</td>\n",
       "      <td>Coca Cola/Pepsi</td>\n",
       "      <td>F</td>\n",
       "    </tr>\n",
       "    <tr>\n",
       "      <th>5</th>\n",
       "      <td>61</td>\n",
       "      <td>Neutral</td>\n",
       "      <td>Rock</td>\n",
       "      <td>Doesn't drink</td>\n",
       "      <td>Coca Cola/Pepsi</td>\n",
       "      <td>M</td>\n",
       "    </tr>\n",
       "    <tr>\n",
       "      <th>6</th>\n",
       "      <td>62</td>\n",
       "      <td>Cool</td>\n",
       "      <td>Hip hop</td>\n",
       "      <td>Wine</td>\n",
       "      <td>Coca Cola/Pepsi</td>\n",
       "      <td>M</td>\n",
       "    </tr>\n",
       "    <tr>\n",
       "      <th>7</th>\n",
       "      <td>63</td>\n",
       "      <td>Cool</td>\n",
       "      <td>Rock</td>\n",
       "      <td>Doesn't drink</td>\n",
       "      <td>Other</td>\n",
       "      <td>M</td>\n",
       "    </tr>\n",
       "    <tr>\n",
       "      <th>8</th>\n",
       "      <td>64</td>\n",
       "      <td>Cool</td>\n",
       "      <td>Hip hop</td>\n",
       "      <td>Doesn't drink</td>\n",
       "      <td>Other</td>\n",
       "      <td>M</td>\n",
       "    </tr>\n",
       "    <tr>\n",
       "      <th>9</th>\n",
       "      <td>65</td>\n",
       "      <td>Cool</td>\n",
       "      <td>Electronic</td>\n",
       "      <td>Other</td>\n",
       "      <td>Fanta</td>\n",
       "      <td>M</td>\n",
       "    </tr>\n",
       "    <tr>\n",
       "      <th>10</th>\n",
       "      <td>66</td>\n",
       "      <td>Warm</td>\n",
       "      <td>Electronic</td>\n",
       "      <td>Vodka</td>\n",
       "      <td>Fanta</td>\n",
       "      <td>M</td>\n",
       "    </tr>\n",
       "  </tbody>\n",
       "</table>\n",
       "</div>"
      ],
      "text/plain": [
       "    ID Favorite Color Favorite Music Genre Favorite Beverage  \\\n",
       "0   56           Cool                 Rock             Vodka   \n",
       "1   57           Cool                  Pop             Other   \n",
       "2   58           Cool                  Pop     Doesn't drink   \n",
       "3   59           Cool           Electronic     Doesn't drink   \n",
       "4   60           Warm                 Rock             Other   \n",
       "5   61        Neutral                 Rock     Doesn't drink   \n",
       "6   62           Cool              Hip hop              Wine   \n",
       "7   63           Cool                 Rock     Doesn't drink   \n",
       "8   64           Cool              Hip hop     Doesn't drink   \n",
       "9   65           Cool           Electronic             Other   \n",
       "10  66           Warm           Electronic             Vodka   \n",
       "\n",
       "   Favorite Soft Drink Gender  \n",
       "0           7UP/Sprite      F  \n",
       "1           7UP/Sprite      F  \n",
       "2      Coca Cola/Pepsi      F  \n",
       "3                Fanta      F  \n",
       "4      Coca Cola/Pepsi      F  \n",
       "5      Coca Cola/Pepsi      M  \n",
       "6      Coca Cola/Pepsi      M  \n",
       "7                Other      M  \n",
       "8                Other      M  \n",
       "9                Fanta      M  \n",
       "10               Fanta      M  "
      ]
     },
     "execution_count": 4,
     "metadata": {},
     "output_type": "execute_result"
    }
   ],
   "source": [
    "test_data"
   ]
  },
  {
   "cell_type": "markdown",
   "id": "9b7d10e6",
   "metadata": {
    "papermill": {
     "duration": 0.040454,
     "end_time": "2022-05-10T11:13:29.408562",
     "exception": false,
     "start_time": "2022-05-10T11:13:29.368108",
     "status": "completed"
    },
    "tags": []
   },
   "source": [
    "# Data Visualization"
   ]
  },
  {
   "cell_type": "code",
   "execution_count": 5,
   "id": "cb59ccd9",
   "metadata": {
    "execution": {
     "iopub.execute_input": "2022-05-10T11:13:29.492042Z",
     "iopub.status.busy": "2022-05-10T11:13:29.491411Z",
     "iopub.status.idle": "2022-05-10T11:13:29.572795Z",
     "shell.execute_reply": "2022-05-10T11:13:29.572136Z",
     "shell.execute_reply.started": "2022-04-07T13:07:18.056025Z"
    },
    "papermill": {
     "duration": 0.1242,
     "end_time": "2022-05-10T11:13:29.572952",
     "exception": false,
     "start_time": "2022-05-10T11:13:29.448752",
     "status": "completed"
    },
    "tags": []
   },
   "outputs": [],
   "source": [
    "import matplotlib.pyplot as plt\n",
    "import seaborn as sns\n",
    "\n"
   ]
  },
  {
   "cell_type": "markdown",
   "id": "7387bf2e",
   "metadata": {
    "papermill": {
     "duration": 0.040396,
     "end_time": "2022-05-10T11:13:29.653999",
     "exception": false,
     "start_time": "2022-05-10T11:13:29.613603",
     "status": "completed"
    },
    "tags": []
   },
   "source": [
    "#### Plotting gender based on favorite color"
   ]
  },
  {
   "cell_type": "code",
   "execution_count": 6,
   "id": "9ddec158",
   "metadata": {
    "execution": {
     "iopub.execute_input": "2022-05-10T11:13:29.740750Z",
     "iopub.status.busy": "2022-05-10T11:13:29.740122Z",
     "iopub.status.idle": "2022-05-10T11:13:30.014597Z",
     "shell.execute_reply": "2022-05-10T11:13:30.014076Z",
     "shell.execute_reply.started": "2022-04-07T13:07:18.137506Z"
    },
    "papermill": {
     "duration": 0.32058,
     "end_time": "2022-05-10T11:13:30.014728",
     "exception": false,
     "start_time": "2022-05-10T11:13:29.694148",
     "status": "completed"
    },
    "tags": []
   },
   "outputs": [
    {
     "data": {
      "image/png": "[encoded data removed]",
      "text/plain": [
       "<Figure size 432x360 with 1 Axes>"
      ]
     },
     "metadata": {
      "needs_background": "light"
     },
     "output_type": "display_data"
    }
   ],
   "source": [
    "plt.figure(figsize=(6,5))\n",
    "ax = sns.countplot(data=train_data,x = 'Favorite Color',hue = 'Gender')\n",
    "\n",
    "for i in range(len(ax.containers)):\n",
    "    ax.bar_label(ax.containers[i])\n",
    "    \n",
    "plt.title('Gender plot based on favorite color')\n",
    "plt.show()"
   ]
  },
  {
   "cell_type": "markdown",
   "id": "c1f85d70",
   "metadata": {
    "papermill": {
     "duration": 0.041091,
     "end_time": "2022-05-10T11:13:30.097506",
     "exception": false,
     "start_time": "2022-05-10T11:13:30.056415",
     "status": "completed"
    },
    "tags": []
   },
   "source": [
    "* Seems Cool colors favored by Male and Warm colors favored by Female persons"
   ]
  },
  {
   "cell_type": "markdown",
   "id": "e521a3cf",
   "metadata": {
    "papermill": {
     "duration": 0.041381,
     "end_time": "2022-05-10T11:13:30.180330",
     "exception": false,
     "start_time": "2022-05-10T11:13:30.138949",
     "status": "completed"
    },
    "tags": []
   },
   "source": [
    "#### Plotting gender based on favorite music genre"
   ]
  },
  {
   "cell_type": "code",
   "execution_count": 7,
   "id": "ab7a4b75",
   "metadata": {
    "execution": {
     "iopub.execute_input": "2022-05-10T11:13:30.338657Z",
     "iopub.status.busy": "2022-05-10T11:13:30.307124Z",
     "iopub.status.idle": "2022-05-10T11:13:30.571418Z",
     "shell.execute_reply": "2022-05-10T11:13:30.570761Z",
     "shell.execute_reply.started": "2022-04-07T13:07:18.375011Z"
    },
    "papermill": {
     "duration": 0.349428,
     "end_time": "2022-05-10T11:13:30.571552",
     "exception": false,
     "start_time": "2022-05-10T11:13:30.222124",
     "status": "completed"
    },
    "tags": []
   },
   "outputs": [
    {
     "data": {
      "image/png": "[encoded data removed]",
      "text/plain": [
       "<Figure size 720x432 with 1 Axes>"
      ]
     },
     "metadata": {
      "needs_background": "light"
     },
     "output_type": "display_data"
    }
   ],
   "source": [
    "plt.figure(figsize=(10,6))\n",
    "ax = sns.countplot(data=train_data,x = 'Favorite Music Genre',hue = 'Gender')\n",
    "\n",
    "for i in range(len(ax.containers)):\n",
    "    ax.bar_label(ax.containers[i])\n",
    "    \n",
    "plt.title('Gender plot based on favorite music genre')\n",
    "plt.show()"
   ]
  },
  {
   "cell_type": "markdown",
   "id": "407a7653",
   "metadata": {
    "papermill": {
     "duration": 0.042143,
     "end_time": "2022-05-10T11:13:30.656513",
     "exception": false,
     "start_time": "2022-05-10T11:13:30.614370",
     "status": "completed"
    },
    "tags": []
   },
   "source": [
    "* Overall Pop and Rock music are mostly loved among all\n",
    "* Hip hop, Electronic and R&B and soul music loved by Male persons\n",
    "* Pop and Jazz/Blues mostly loved by Female persons\n",
    "* Seems Rock music and Folk/Traditional loved equally"
   ]
  },
  {
   "cell_type": "markdown",
   "id": "c258b41a",
   "metadata": {
    "papermill": {
     "duration": 0.041796,
     "end_time": "2022-05-10T11:13:30.740748",
     "exception": false,
     "start_time": "2022-05-10T11:13:30.698952",
     "status": "completed"
    },
    "tags": []
   },
   "source": [
    "#### Plotting gender based on favorite beverage"
   ]
  },
  {
   "cell_type": "code",
   "execution_count": 8,
   "id": "c31521c8",
   "metadata": {
    "execution": {
     "iopub.execute_input": "2022-05-10T11:13:30.831582Z",
     "iopub.status.busy": "2022-05-10T11:13:30.830817Z",
     "iopub.status.idle": "2022-05-10T11:13:31.112461Z",
     "shell.execute_reply": "2022-05-10T11:13:31.112938Z",
     "shell.execute_reply.started": "2022-04-07T13:07:18.682516Z"
    },
    "papermill": {
     "duration": 0.329004,
     "end_time": "2022-05-10T11:13:31.113110",
     "exception": false,
     "start_time": "2022-05-10T11:13:30.784106",
     "status": "completed"
    },
    "tags": []
   },
   "outputs": [
    {
     "data": {
      "image/png": "[encoded data removed]",
      "text/plain": [
       "<Figure size 720x432 with 1 Axes>"
      ]
     },
     "metadata": {
      "needs_background": "light"
     },
     "output_type": "display_data"
    }
   ],
   "source": [
    "plt.figure(figsize=(10,6))\n",
    "ax = sns.countplot(data=train_data,x = 'Favorite Beverage',hue = 'Gender')\n",
    "\n",
    "for i in range(len(ax.containers)):\n",
    "    ax.bar_label(ax.containers[i])\n",
    "    \n",
    "plt.title('Gender plot based on favorite beverage')\n",
    "plt.show()"
   ]
  },
  {
   "cell_type": "markdown",
   "id": "546cdb33",
   "metadata": {
    "papermill": {
     "duration": 0.043538,
     "end_time": "2022-05-10T11:13:31.200838",
     "exception": false,
     "start_time": "2022-05-10T11:13:31.157300",
     "status": "completed"
    },
    "tags": []
   },
   "source": [
    "# Data Preprocessing"
   ]
  },
  {
   "cell_type": "markdown",
   "id": "2d8ececb",
   "metadata": {
    "papermill": {
     "duration": 0.043279,
     "end_time": "2022-05-10T11:13:31.288129",
     "exception": false,
     "start_time": "2022-05-10T11:13:31.244850",
     "status": "completed"
    },
    "tags": []
   },
   "source": [
    "#### Check the mixing values"
   ]
  },
  {
   "cell_type": "code",
   "execution_count": 9,
   "id": "37d0d391",
   "metadata": {
    "execution": {
     "iopub.execute_input": "2022-05-10T11:13:31.378839Z",
     "iopub.status.busy": "2022-05-10T11:13:31.378214Z",
     "iopub.status.idle": "2022-05-10T11:13:31.385297Z",
     "shell.execute_reply": "2022-05-10T11:13:31.385762Z",
     "shell.execute_reply.started": "2022-04-07T13:07:18.988186Z"
    },
    "papermill": {
     "duration": 0.054032,
     "end_time": "2022-05-10T11:13:31.385960",
     "exception": false,
     "start_time": "2022-05-10T11:13:31.331928",
     "status": "completed"
    },
    "tags": []
   },
   "outputs": [
    {
     "data": {
      "text/plain": [
       "ID                      0\n",
       "Favorite Color          0\n",
       "Favorite Music Genre    0\n",
       "Favorite Beverage       0\n",
       "Favorite Soft Drink     0\n",
       "Gender                  0\n",
       "dtype: int64"
      ]
     },
     "execution_count": 9,
     "metadata": {},
     "output_type": "execute_result"
    }
   ],
   "source": [
    "train_data.isnull().sum()"
   ]
  },
  {
   "cell_type": "markdown",
   "id": "59b727f7",
   "metadata": {
    "papermill": {
     "duration": 0.045381,
     "end_time": "2022-05-10T11:13:31.475417",
     "exception": false,
     "start_time": "2022-05-10T11:13:31.430036",
     "status": "completed"
    },
    "tags": []
   },
   "source": [
    "* We have no missing values in train data."
   ]
  },
  {
   "cell_type": "code",
   "execution_count": 10,
   "id": "31a9dd1a",
   "metadata": {
    "execution": {
     "iopub.execute_input": "2022-05-10T11:13:31.574502Z",
     "iopub.status.busy": "2022-05-10T11:13:31.573602Z",
     "iopub.status.idle": "2022-05-10T11:13:31.576907Z",
     "shell.execute_reply": "2022-05-10T11:13:31.577358Z",
     "shell.execute_reply.started": "2022-04-07T13:07:19.003641Z"
    },
    "papermill": {
     "duration": 0.05569,
     "end_time": "2022-05-10T11:13:31.577534",
     "exception": false,
     "start_time": "2022-05-10T11:13:31.521844",
     "status": "completed"
    },
    "tags": []
   },
   "outputs": [
    {
     "data": {
      "text/plain": [
       "ID                      0\n",
       "Favorite Color          0\n",
       "Favorite Music Genre    0\n",
       "Favorite Beverage       0\n",
       "Favorite Soft Drink     0\n",
       "Gender                  0\n",
       "dtype: int64"
      ]
     },
     "execution_count": 10,
     "metadata": {},
     "output_type": "execute_result"
    }
   ],
   "source": [
    "test_data.isnull().sum()"
   ]
  },
  {
   "cell_type": "markdown",
   "id": "350fffc6",
   "metadata": {
    "papermill": {
     "duration": 0.043934,
     "end_time": "2022-05-10T11:13:31.665983",
     "exception": false,
     "start_time": "2022-05-10T11:13:31.622049",
     "status": "completed"
    },
    "tags": []
   },
   "source": [
    "* We have no missing values in test data."
   ]
  },
  {
   "cell_type": "markdown",
   "id": "8575f7f9",
   "metadata": {
    "papermill": {
     "duration": 0.043803,
     "end_time": "2022-05-10T11:13:31.754087",
     "exception": false,
     "start_time": "2022-05-10T11:13:31.710284",
     "status": "completed"
    },
    "tags": []
   },
   "source": [
    "#### Check the type of features"
   ]
  },
  {
   "cell_type": "code",
   "execution_count": 11,
   "id": "f5003533",
   "metadata": {
    "execution": {
     "iopub.execute_input": "2022-05-10T11:13:31.858078Z",
     "iopub.status.busy": "2022-05-10T11:13:31.851283Z",
     "iopub.status.idle": "2022-05-10T11:13:31.862100Z",
     "shell.execute_reply": "2022-05-10T11:13:31.862696Z",
     "shell.execute_reply.started": "2022-04-07T13:07:19.017165Z"
    },
    "papermill": {
     "duration": 0.064526,
     "end_time": "2022-05-10T11:13:31.862867",
     "exception": false,
     "start_time": "2022-05-10T11:13:31.798341",
     "status": "completed"
    },
    "tags": []
   },
   "outputs": [
    {
     "name": "stdout",
     "output_type": "stream",
     "text": [
      "<class 'pandas.core.frame.DataFrame'>\n",
      "RangeIndex: 55 entries, 0 to 54\n",
      "Data columns (total 6 columns):\n",
      " #   Column                Non-Null Count  Dtype \n",
      "---  ------                --------------  ----- \n",
      " 0   ID                    55 non-null     int64 \n",
      " 1   Favorite Color        55 non-null     object\n",
      " 2   Favorite Music Genre  55 non-null     object\n",
      " 3   Favorite Beverage     55 non-null     object\n",
      " 4   Favorite Soft Drink   55 non-null     object\n",
      " 5   Gender                55 non-null     object\n",
      "dtypes: int64(1), object(5)\n",
      "memory usage: 2.7+ KB\n"
     ]
    }
   ],
   "source": [
    "train_data.info()"
   ]
  },
  {
   "cell_type": "code",
   "execution_count": 12,
   "id": "7f76fd4c",
   "metadata": {
    "execution": {
     "iopub.execute_input": "2022-05-10T11:13:31.965136Z",
     "iopub.status.busy": "2022-05-10T11:13:31.956104Z",
     "iopub.status.idle": "2022-05-10T11:13:31.968896Z",
     "shell.execute_reply": "2022-05-10T11:13:31.969808Z",
     "shell.execute_reply.started": "2022-04-07T13:07:19.043704Z"
    },
    "papermill": {
     "duration": 0.062268,
     "end_time": "2022-05-10T11:13:31.970114",
     "exception": false,
     "start_time": "2022-05-10T11:13:31.907846",
     "status": "completed"
    },
    "tags": []
   },
   "outputs": [
    {
     "name": "stdout",
     "output_type": "stream",
     "text": [
      "<class 'pandas.core.frame.DataFrame'>\n",
      "RangeIndex: 11 entries, 0 to 10\n",
      "Data columns (total 6 columns):\n",
      " #   Column                Non-Null Count  Dtype \n",
      "---  ------                --------------  ----- \n",
      " 0   ID                    11 non-null     int64 \n",
      " 1   Favorite Color        11 non-null     object\n",
      " 2   Favorite Music Genre  11 non-null     object\n",
      " 3   Favorite Beverage     11 non-null     object\n",
      " 4   Favorite Soft Drink   11 non-null     object\n",
      " 5   Gender                11 non-null     object\n",
      "dtypes: int64(1), object(5)\n",
      "memory usage: 656.0+ bytes\n"
     ]
    }
   ],
   "source": [
    "test_data.info()"
   ]
  },
  {
   "cell_type": "markdown",
   "id": "98c03e41",
   "metadata": {
    "papermill": {
     "duration": 0.045657,
     "end_time": "2022-05-10T11:13:32.062002",
     "exception": false,
     "start_time": "2022-05-10T11:13:32.016345",
     "status": "completed"
    },
    "tags": []
   },
   "source": [
    "#### Encode data"
   ]
  },
  {
   "cell_type": "markdown",
   "id": "52df0c0c",
   "metadata": {
    "papermill": {
     "duration": 0.045258,
     "end_time": "2022-05-10T11:13:32.153027",
     "exception": false,
     "start_time": "2022-05-10T11:13:32.107769",
     "status": "completed"
    },
    "tags": []
   },
   "source": [
    "Here, we are going to encode all object features"
   ]
  },
  {
   "cell_type": "code",
   "execution_count": 13,
   "id": "8784c9b2",
   "metadata": {
    "execution": {
     "iopub.execute_input": "2022-05-10T11:13:32.248859Z",
     "iopub.status.busy": "2022-05-10T11:13:32.248237Z",
     "iopub.status.idle": "2022-05-10T11:13:32.253501Z",
     "shell.execute_reply": "2022-05-10T11:13:32.254105Z",
     "shell.execute_reply.started": "2022-04-07T13:07:19.317183Z"
    },
    "papermill": {
     "duration": 0.055885,
     "end_time": "2022-05-10T11:13:32.254276",
     "exception": false,
     "start_time": "2022-05-10T11:13:32.198391",
     "status": "completed"
    },
    "tags": []
   },
   "outputs": [
    {
     "data": {
      "text/plain": [
       "['Favorite Color',\n",
       " 'Favorite Music Genre',\n",
       " 'Favorite Beverage',\n",
       " 'Favorite Soft Drink',\n",
       " 'Gender']"
      ]
     },
     "execution_count": 13,
     "metadata": {},
     "output_type": "execute_result"
    }
   ],
   "source": [
    "cols = test_data.columns.tolist() # Get columns(features) list\n",
    "cols.remove('ID') # Remove ID, it's not a object type\n",
    "cols"
   ]
  },
  {
   "cell_type": "code",
   "execution_count": 14,
   "id": "ca8dfcf8",
   "metadata": {
    "execution": {
     "iopub.execute_input": "2022-05-10T11:13:32.348810Z",
     "iopub.status.busy": "2022-05-10T11:13:32.348224Z",
     "iopub.status.idle": "2022-05-10T11:13:32.355567Z",
     "shell.execute_reply": "2022-05-10T11:13:32.356064Z",
     "shell.execute_reply.started": "2022-04-07T13:07:19.462053Z"
    },
    "papermill": {
     "duration": 0.056021,
     "end_time": "2022-05-10T11:13:32.356226",
     "exception": false,
     "start_time": "2022-05-10T11:13:32.300205",
     "status": "completed"
    },
    "tags": []
   },
   "outputs": [],
   "source": [
    "le = LabelEncoder()\n",
    "\n",
    "for col in cols:\n",
    "    train_data[col] = le.fit_transform(train_data[col]) # Encode each data train feature\n",
    "    test_data[col] = le.transform(test_data[col])       # Encode each data test feature"
   ]
  },
  {
   "cell_type": "markdown",
   "id": "bb5ac1e1",
   "metadata": {
    "papermill": {
     "duration": 0.044997,
     "end_time": "2022-05-10T11:13:32.446999",
     "exception": false,
     "start_time": "2022-05-10T11:13:32.402002",
     "status": "completed"
    },
    "tags": []
   },
   "source": [
    "#### Concat train and test data"
   ]
  },
  {
   "cell_type": "code",
   "execution_count": 15,
   "id": "1122a5f0",
   "metadata": {
    "execution": {
     "iopub.execute_input": "2022-05-10T11:13:32.541575Z",
     "iopub.status.busy": "2022-05-10T11:13:32.540947Z",
     "iopub.status.idle": "2022-05-10T11:13:32.553940Z",
     "shell.execute_reply": "2022-05-10T11:13:32.554432Z",
     "shell.execute_reply.started": "2022-04-07T13:07:19.583124Z"
    },
    "papermill": {
     "duration": 0.061564,
     "end_time": "2022-05-10T11:13:32.554594",
     "exception": false,
     "start_time": "2022-05-10T11:13:32.493030",
     "status": "completed"
    },
    "tags": []
   },
   "outputs": [
    {
     "data": {
      "text/html": [
       "<div>\n",
       "<style scoped>\n",
       "    .dataframe tbody tr th:only-of-type {\n",
       "        vertical-align: middle;\n",
       "    }\n",
       "\n",
       "    .dataframe tbody tr th {\n",
       "        vertical-align: top;\n",
       "    }\n",
       "\n",
       "    .dataframe thead th {\n",
       "        text-align: right;\n",
       "    }\n",
       "</style>\n",
       "<table border=\"1\" class=\"dataframe\">\n",
       "  <thead>\n",
       "    <tr style=\"text-align: right;\">\n",
       "      <th></th>\n",
       "      <th>ID</th>\n",
       "      <th>Favorite Color</th>\n",
       "      <th>Favorite Music Genre</th>\n",
       "      <th>Favorite Beverage</th>\n",
       "      <th>Favorite Soft Drink</th>\n",
       "      <th>Gender</th>\n",
       "    </tr>\n",
       "  </thead>\n",
       "  <tbody>\n",
       "    <tr>\n",
       "      <th>0</th>\n",
       "      <td>1</td>\n",
       "      <td>1</td>\n",
       "      <td>2</td>\n",
       "      <td>3</td>\n",
       "      <td>1</td>\n",
       "      <td>0</td>\n",
       "    </tr>\n",
       "    <tr>\n",
       "      <th>1</th>\n",
       "      <td>2</td>\n",
       "      <td>2</td>\n",
       "      <td>6</td>\n",
       "      <td>5</td>\n",
       "      <td>1</td>\n",
       "      <td>0</td>\n",
       "    </tr>\n",
       "    <tr>\n",
       "      <th>2</th>\n",
       "      <td>3</td>\n",
       "      <td>2</td>\n",
       "      <td>1</td>\n",
       "      <td>4</td>\n",
       "      <td>2</td>\n",
       "      <td>0</td>\n",
       "    </tr>\n",
       "    <tr>\n",
       "      <th>3</th>\n",
       "      <td>4</td>\n",
       "      <td>0</td>\n",
       "      <td>6</td>\n",
       "      <td>3</td>\n",
       "      <td>1</td>\n",
       "      <td>0</td>\n",
       "    </tr>\n",
       "    <tr>\n",
       "      <th>4</th>\n",
       "      <td>5</td>\n",
       "      <td>2</td>\n",
       "      <td>3</td>\n",
       "      <td>1</td>\n",
       "      <td>2</td>\n",
       "      <td>0</td>\n",
       "    </tr>\n",
       "    <tr>\n",
       "      <th>...</th>\n",
       "      <td>...</td>\n",
       "      <td>...</td>\n",
       "      <td>...</td>\n",
       "      <td>...</td>\n",
       "      <td>...</td>\n",
       "      <td>...</td>\n",
       "    </tr>\n",
       "    <tr>\n",
       "      <th>61</th>\n",
       "      <td>62</td>\n",
       "      <td>0</td>\n",
       "      <td>2</td>\n",
       "      <td>5</td>\n",
       "      <td>1</td>\n",
       "      <td>1</td>\n",
       "    </tr>\n",
       "    <tr>\n",
       "      <th>62</th>\n",
       "      <td>63</td>\n",
       "      <td>0</td>\n",
       "      <td>6</td>\n",
       "      <td>1</td>\n",
       "      <td>3</td>\n",
       "      <td>1</td>\n",
       "    </tr>\n",
       "    <tr>\n",
       "      <th>63</th>\n",
       "      <td>64</td>\n",
       "      <td>0</td>\n",
       "      <td>2</td>\n",
       "      <td>1</td>\n",
       "      <td>3</td>\n",
       "      <td>1</td>\n",
       "    </tr>\n",
       "    <tr>\n",
       "      <th>64</th>\n",
       "      <td>65</td>\n",
       "      <td>0</td>\n",
       "      <td>0</td>\n",
       "      <td>2</td>\n",
       "      <td>2</td>\n",
       "      <td>1</td>\n",
       "    </tr>\n",
       "    <tr>\n",
       "      <th>65</th>\n",
       "      <td>66</td>\n",
       "      <td>2</td>\n",
       "      <td>0</td>\n",
       "      <td>3</td>\n",
       "      <td>2</td>\n",
       "      <td>1</td>\n",
       "    </tr>\n",
       "  </tbody>\n",
       "</table>\n",
       "<p>66 rows × 6 columns</p>\n",
       "</div>"
      ],
      "text/plain": [
       "    ID  Favorite Color  Favorite Music Genre  Favorite Beverage  \\\n",
       "0    1               1                     2                  3   \n",
       "1    2               2                     6                  5   \n",
       "2    3               2                     1                  4   \n",
       "3    4               0                     6                  3   \n",
       "4    5               2                     3                  1   \n",
       "..  ..             ...                   ...                ...   \n",
       "61  62               0                     2                  5   \n",
       "62  63               0                     6                  1   \n",
       "63  64               0                     2                  1   \n",
       "64  65               0                     0                  2   \n",
       "65  66               2                     0                  3   \n",
       "\n",
       "    Favorite Soft Drink  Gender  \n",
       "0                     1       0  \n",
       "1                     1       0  \n",
       "2                     2       0  \n",
       "3                     1       0  \n",
       "4                     2       0  \n",
       "..                  ...     ...  \n",
       "61                    1       1  \n",
       "62                    3       1  \n",
       "63                    3       1  \n",
       "64                    2       1  \n",
       "65                    2       1  \n",
       "\n",
       "[66 rows x 6 columns]"
      ]
     },
     "execution_count": 15,
     "metadata": {},
     "output_type": "execute_result"
    }
   ],
   "source": [
    "all_data = pd.concat([train_data, test_data]).reset_index(drop=True)\n",
    "all_data"
   ]
  },
  {
   "cell_type": "markdown",
   "id": "adfe8366",
   "metadata": {
    "papermill": {
     "duration": 0.046004,
     "end_time": "2022-05-10T11:13:32.647986",
     "exception": false,
     "start_time": "2022-05-10T11:13:32.601982",
     "status": "completed"
    },
    "tags": []
   },
   "source": [
    "#### Separating features and target"
   ]
  },
  {
   "cell_type": "code",
   "execution_count": 16,
   "id": "7d2467b8",
   "metadata": {
    "execution": {
     "iopub.execute_input": "2022-05-10T11:13:32.743831Z",
     "iopub.status.busy": "2022-05-10T11:13:32.743240Z",
     "iopub.status.idle": "2022-05-10T11:13:32.750447Z",
     "shell.execute_reply": "2022-05-10T11:13:32.750931Z",
     "shell.execute_reply.started": "2022-04-07T13:07:19.713954Z"
    },
    "papermill": {
     "duration": 0.057043,
     "end_time": "2022-05-10T11:13:32.751102",
     "exception": false,
     "start_time": "2022-05-10T11:13:32.694059",
     "status": "completed"
    },
    "tags": []
   },
   "outputs": [],
   "source": [
    "X_train = all_data.drop(['ID','Gender'],axis=1)\n",
    "y_train = all_data['Gender']\n",
    "\n",
    "X_test = test_data.drop(['ID','Gender'],axis=1)\n",
    "y_test = test_data['Gender']"
   ]
  },
  {
   "cell_type": "markdown",
   "id": "7894efd1",
   "metadata": {
    "papermill": {
     "duration": 0.045938,
     "end_time": "2022-05-10T11:13:32.843247",
     "exception": false,
     "start_time": "2022-05-10T11:13:32.797309",
     "status": "completed"
    },
    "tags": []
   },
   "source": [
    "# Modeling"
   ]
  },
  {
   "cell_type": "markdown",
   "id": "6d95ce73",
   "metadata": {
    "papermill": {
     "duration": 0.047801,
     "end_time": "2022-05-10T11:13:32.938227",
     "exception": false,
     "start_time": "2022-05-10T11:13:32.890426",
     "status": "completed"
    },
    "tags": []
   },
   "source": [
    "Here, we will compare the performance of three algos. We will use :\n",
    "1. CatBoostClassifier : [doc here](https://catboost.ai/en/docs/concepts/python-reference_catboostclassifier)\n",
    "2. XGBClassifier : [doc here](https://xgboost.readthedocs.io/en/stable/python/python_api.html)\n",
    "3. LGBMClassifier : [doc here](https://lightgbm.readthedocs.io/en/latest/pythonapi/lightgbm.LGBMClassifier.html)"
   ]
  },
  {
   "cell_type": "code",
   "execution_count": 17,
   "id": "c8352179",
   "metadata": {
    "execution": {
     "iopub.execute_input": "2022-05-10T11:13:33.038205Z",
     "iopub.status.busy": "2022-05-10T11:13:33.037560Z",
     "iopub.status.idle": "2022-05-10T11:13:33.045148Z",
     "shell.execute_reply": "2022-05-10T11:13:33.045646Z",
     "shell.execute_reply.started": "2022-04-07T13:07:19.874301Z"
    },
    "papermill": {
     "duration": 0.058098,
     "end_time": "2022-05-10T11:13:33.045810",
     "exception": false,
     "start_time": "2022-05-10T11:13:32.987712",
     "status": "completed"
    },
    "tags": []
   },
   "outputs": [],
   "source": [
    "models = [\n",
    "    CatBoostClassifier(verbose=False), \n",
    "    xgb.XGBClassifier(), \n",
    "    lgb.LGBMClassifier()\n",
    "]"
   ]
  },
  {
   "cell_type": "markdown",
   "id": "f50820e2",
   "metadata": {
    "papermill": {
     "duration": 0.047033,
     "end_time": "2022-05-10T11:13:33.139992",
     "exception": false,
     "start_time": "2022-05-10T11:13:33.092959",
     "status": "completed"
    },
    "tags": []
   },
   "source": [
    "#### Training, Testing and Evaluating Models"
   ]
  },
  {
   "cell_type": "code",
   "execution_count": 18,
   "id": "27fb277c",
   "metadata": {
    "execution": {
     "iopub.execute_input": "2022-05-10T11:13:33.237142Z",
     "iopub.status.busy": "2022-05-10T11:13:33.236484Z",
     "iopub.status.idle": "2022-05-10T11:13:34.029426Z",
     "shell.execute_reply": "2022-05-10T11:13:34.030894Z",
     "shell.execute_reply.started": "2022-04-07T13:07:20.034327Z"
    },
    "papermill": {
     "duration": 0.844575,
     "end_time": "2022-05-10T11:13:34.031103",
     "exception": false,
     "start_time": "2022-05-10T11:13:33.186528",
     "status": "completed"
    },
    "tags": []
   },
   "outputs": [
    {
     "name": "stdout",
     "output_type": "stream",
     "text": [
      "Accuracy score (<catboost.core.CatBoostClassifier object at 0x7f29a1e38210>) :  0.9090909090909091 \n",
      "\n",
      "[11:13:33] WARNING: ../src/learner.cc:1115: Starting in XGBoost 1.3.0, the default evaluation metric used with the objective 'binary:logistic' was changed from 'error' to 'logloss'. Explicitly set eval_metric if you'd like to restore the old behavior.\n"
     ]
    },
    {
     "name": "stderr",
     "output_type": "stream",
     "text": [
      "/opt/conda/lib/python3.7/site-packages/xgboost/sklearn.py:1224: UserWarning: The use of label encoder in XGBClassifier is deprecated and will be removed in a future release. To remove this warning, do the following: 1) Pass option use_label_encoder=False when constructing XGBClassifier object; and 2) Encode your labels (y) as integers starting with 0, i.e. 0, 1, 2, ..., [num_class - 1].\n",
      "  warnings.warn(label_encoder_deprecation_msg, UserWarning)\n"
     ]
    },
    {
     "name": "stdout",
     "output_type": "stream",
     "text": [
      "Accuracy score (XGBClassifier(base_score=0.5, booster='gbtree', colsample_bylevel=1,\n",
      "              colsample_bynode=1, colsample_bytree=1, enable_categorical=False,\n",
      "              gamma=0, gpu_id=-1, importance_type=None,\n",
      "              interaction_constraints='', learning_rate=0.300000012,\n",
      "              max_delta_step=0, max_depth=6, min_child_weight=1, missing=nan,\n",
      "              monotone_constraints='()', n_estimators=100, n_jobs=4,\n",
      "              num_parallel_tree=1, predictor='auto', random_state=0,\n",
      "              reg_alpha=0, reg_lambda=1, scale_pos_weight=1, subsample=1,\n",
      "              tree_method='exact', validate_parameters=1, verbosity=None)) :  0.9090909090909091 \n",
      "\n",
      "Accuracy score (LGBMClassifier()) :  0.9090909090909091 \n",
      "\n"
     ]
    }
   ],
   "source": [
    "for model in models:\n",
    "    # Fit model\n",
    "    model.fit(X_train,y_train)  \n",
    "    \n",
    "    # Test Model\n",
    "    predict = model.predict(X_test)              \n",
    "    \n",
    "    # Evaluate model\n",
    "    print(f\"Accuracy score ({str(model)}) : \", accuracy_score(y_test, predict), '\\n')"
   ]
  },
  {
   "cell_type": "markdown",
   "id": "048416da",
   "metadata": {
    "papermill": {
     "duration": 0.047638,
     "end_time": "2022-05-10T11:13:34.128311",
     "exception": false,
     "start_time": "2022-05-10T11:13:34.080673",
     "status": "completed"
    },
    "tags": []
   },
   "source": [
    "# Catboost with Optuna "
   ]
  },
  {
   "cell_type": "markdown",
   "id": "f8b67cfc",
   "metadata": {
    "papermill": {
     "duration": 0.047386,
     "end_time": "2022-05-10T11:13:34.223574",
     "exception": false,
     "start_time": "2022-05-10T11:13:34.176188",
     "status": "completed"
    },
    "tags": []
   },
   "source": [
    "Here, we'll use optuna to search the best params of catboost model "
   ]
  },
  {
   "cell_type": "code",
   "execution_count": 19,
   "id": "e8cec77e",
   "metadata": {
    "_kg_hide-output": true,
    "execution": {
     "iopub.execute_input": "2022-05-10T11:13:34.328809Z",
     "iopub.status.busy": "2022-05-10T11:13:34.328066Z",
     "iopub.status.idle": "2022-05-10T11:14:05.727007Z",
     "shell.execute_reply": "2022-05-10T11:14:05.727481Z",
     "shell.execute_reply.started": "2022-04-07T13:07:20.806965Z"
    },
    "papermill": {
     "duration": 31.455375,
     "end_time": "2022-05-10T11:14:05.727657",
     "exception": false,
     "start_time": "2022-05-10T11:13:34.272282",
     "status": "completed"
    },
    "tags": []
   },
   "outputs": [
    {
     "name": "stderr",
     "output_type": "stream",
     "text": [
      "\u001b[32m[I 2022-05-10 11:13:34,326]\u001b[0m A new study created in memory with name: no-name-84dccb08-6905-4504-bdec-24c27e6580b9\u001b[0m\n",
      "\u001b[32m[I 2022-05-10 11:13:34,412]\u001b[0m Trial 0 finished with value: 0.8181818181818182 and parameters: {'iterations': 334, 'max_depth': 1, 'random_state': 227, 'learning_rate': 0.6341733692869101, 'verbose': 0}. Best is trial 0 with value: 0.8181818181818182.\u001b[0m\n",
      "\u001b[32m[I 2022-05-10 11:13:43,299]\u001b[0m Trial 1 finished with value: 1.0 and parameters: {'iterations': 1863, 'max_depth': 16, 'random_state': 839, 'learning_rate': 0.1082911550190395, 'verbose': 0}. Best is trial 1 with value: 1.0.\u001b[0m\n",
      "\u001b[32m[I 2022-05-10 11:13:43,425]\u001b[0m Trial 2 finished with value: 1.0 and parameters: {'iterations': 570, 'max_depth': 3, 'random_state': 444, 'learning_rate': 0.9635542517702882, 'verbose': 0}. Best is trial 1 with value: 1.0.\u001b[0m\n",
      "\u001b[32m[I 2022-05-10 11:13:49,815]\u001b[0m Trial 3 finished with value: 1.0 and parameters: {'iterations': 1562, 'max_depth': 14, 'random_state': 461, 'learning_rate': 0.8591557463145604, 'verbose': 0}. Best is trial 1 with value: 1.0.\u001b[0m\n",
      "\u001b[32m[I 2022-05-10 11:13:50,277]\u001b[0m Trial 4 finished with value: 0.9090909090909091 and parameters: {'iterations': 1116, 'max_depth': 8, 'random_state': 557, 'learning_rate': 0.2307107564109461, 'verbose': 0}. Best is trial 1 with value: 1.0.\u001b[0m\n",
      "\u001b[32m[I 2022-05-10 11:13:58,701]\u001b[0m Trial 5 finished with value: 1.0 and parameters: {'iterations': 1898, 'max_depth': 15, 'random_state': 1988, 'learning_rate': 0.22344286349913925, 'verbose': 0}. Best is trial 1 with value: 1.0.\u001b[0m\n",
      "\u001b[32m[I 2022-05-10 11:13:58,885]\u001b[0m Trial 6 finished with value: 1.0 and parameters: {'iterations': 528, 'max_depth': 6, 'random_state': 74, 'learning_rate': 0.44987865866692334, 'verbose': 0}. Best is trial 1 with value: 1.0.\u001b[0m\n",
      "\u001b[32m[I 2022-05-10 11:14:00,223]\u001b[0m Trial 7 finished with value: 1.0 and parameters: {'iterations': 426, 'max_depth': 13, 'random_state': 993, 'learning_rate': 0.2254059568141204, 'verbose': 0}. Best is trial 1 with value: 1.0.\u001b[0m\n",
      "\u001b[32m[I 2022-05-10 11:14:00,967]\u001b[0m Trial 8 finished with value: 0.9090909090909091 and parameters: {'iterations': 1418, 'max_depth': 9, 'random_state': 1964, 'learning_rate': 0.253153301135634, 'verbose': 0}. Best is trial 1 with value: 1.0.\u001b[0m\n",
      "\u001b[32m[I 2022-05-10 11:14:04,379]\u001b[0m Trial 9 finished with value: 1.0 and parameters: {'iterations': 1156, 'max_depth': 13, 'random_state': 1085, 'learning_rate': 0.8237280315517935, 'verbose': 0}. Best is trial 1 with value: 1.0.\u001b[0m\n",
      "\u001b[32m[I 2022-05-10 11:14:05,561]\u001b[0m Trial 10 finished with value: 0.9090909090909091 and parameters: {'iterations': 1789, 'max_depth': 10, 'random_state': 1266, 'learning_rate': 0.014699702587283536, 'verbose': 0}. Best is trial 1 with value: 1.0.\u001b[0m\n",
      "\u001b[32m[I 2022-05-10 11:14:05,721]\u001b[0m Trial 11 finished with value: 0.9090909090909091 and parameters: {'iterations': 765, 'max_depth': 2, 'random_state': 746, 'learning_rate': 0.9627306106174252, 'verbose': 0}. Best is trial 1 with value: 1.0.\u001b[0m\n"
     ]
    }
   ],
   "source": [
    "def objectiveCatboost(trial):\n",
    "    iterations = trial.suggest_int(\"iterations\", 10, 2000)\n",
    "    max_depth = trial.suggest_int(\"max_depth\", 1, 16)\n",
    "    random_state = trial.suggest_int(\"random_state\", 1, 2022)\n",
    "    learning_rate = trial.suggest_float(\"learning_rate\", 0.0001, 1)\n",
    "    verbose = trial.suggest_int(\"verbose\", 0, 0)\n",
    "    \n",
    "    clf = CatBoostClassifier(iterations = iterations,\n",
    "                               max_depth = max_depth,\n",
    "                               learning_rate = learning_rate,\n",
    "                               random_state = random_state,\n",
    "                               verbose=verbose\n",
    "                              )\n",
    "    clf.fit(X_train, y_train)\n",
    "    return clf.score(X_test, y_test)\n",
    "\n",
    "\n",
    "study = optuna.create_study(direction = \"maximize\")\n",
    "study.optimize(objectiveCatboost, n_trials=12)"
   ]
  },
  {
   "cell_type": "code",
   "execution_count": 20,
   "id": "ef9baff1",
   "metadata": {
    "execution": {
     "iopub.execute_input": "2022-05-10T11:14:05.840223Z",
     "iopub.status.busy": "2022-05-10T11:14:05.839352Z",
     "iopub.status.idle": "2022-05-10T11:14:05.842693Z",
     "shell.execute_reply": "2022-05-10T11:14:05.843220Z",
     "shell.execute_reply.started": "2022-04-07T13:07:44.976733Z"
    },
    "papermill": {
     "duration": 0.062669,
     "end_time": "2022-05-10T11:14:05.843392",
     "exception": false,
     "start_time": "2022-05-10T11:14:05.780723",
     "status": "completed"
    },
    "tags": []
   },
   "outputs": [
    {
     "data": {
      "text/plain": [
       "{'iterations': 1863,\n",
       " 'max_depth': 16,\n",
       " 'random_state': 839,\n",
       " 'learning_rate': 0.1082911550190395,\n",
       " 'verbose': 0}"
      ]
     },
     "execution_count": 20,
     "metadata": {},
     "output_type": "execute_result"
    }
   ],
   "source": [
    "parameters = study.best_params\n",
    "parameters"
   ]
  },
  {
   "cell_type": "code",
   "execution_count": 21,
   "id": "3f55b1e8",
   "metadata": {
    "execution": {
     "iopub.execute_input": "2022-05-10T11:14:05.956757Z",
     "iopub.status.busy": "2022-05-10T11:14:05.956064Z",
     "iopub.status.idle": "2022-05-10T11:14:14.312705Z",
     "shell.execute_reply": "2022-05-10T11:14:14.312046Z",
     "shell.execute_reply.started": "2022-04-07T13:07:44.98696Z"
    },
    "papermill": {
     "duration": 8.416339,
     "end_time": "2022-05-10T11:14:14.312844",
     "exception": false,
     "start_time": "2022-05-10T11:14:05.896505",
     "status": "completed"
    },
    "tags": []
   },
   "outputs": [
    {
     "name": "stdout",
     "output_type": "stream",
     "text": [
      "CatBoostClassifier with Optuna Accuracy score :  1.0 \n",
      "\n"
     ]
    }
   ],
   "source": [
    "model = CatBoostClassifier(**parameters)\n",
    "\n",
    "model.fit(X_train,y_train)\n",
    "predict = model.predict(X_test)\n",
    "print(\"CatBoostClassifier with Optuna Accuracy score : \", accuracy_score(predict, y_test), '\\n')"
   ]
  },
  {
   "cell_type": "markdown",
   "id": "b6e6df1e",
   "metadata": {
    "papermill": {
     "duration": 0.052941,
     "end_time": "2022-05-10T11:14:14.420078",
     "exception": false,
     "start_time": "2022-05-10T11:14:14.367137",
     "status": "completed"
    },
    "tags": []
   },
   "source": [
    "# Submission on kaggle"
   ]
  },
  {
   "cell_type": "code",
   "execution_count": 22,
   "id": "641d8a8e",
   "metadata": {
    "execution": {
     "iopub.execute_input": "2022-05-10T11:14:14.533144Z",
     "iopub.status.busy": "2022-05-10T11:14:14.532484Z",
     "iopub.status.idle": "2022-05-10T11:14:14.544942Z",
     "shell.execute_reply": "2022-05-10T11:14:14.544386Z",
     "shell.execute_reply.started": "2022-04-07T13:07:47.419007Z"
    },
    "papermill": {
     "duration": 0.070241,
     "end_time": "2022-05-10T11:14:14.545076",
     "exception": false,
     "start_time": "2022-05-10T11:14:14.474835",
     "status": "completed"
    },
    "tags": []
   },
   "outputs": [
    {
     "data": {
      "text/html": [
       "<div>\n",
       "<style scoped>\n",
       "    .dataframe tbody tr th:only-of-type {\n",
       "        vertical-align: middle;\n",
       "    }\n",
       "\n",
       "    .dataframe tbody tr th {\n",
       "        vertical-align: top;\n",
       "    }\n",
       "\n",
       "    .dataframe thead th {\n",
       "        text-align: right;\n",
       "    }\n",
       "</style>\n",
       "<table border=\"1\" class=\"dataframe\">\n",
       "  <thead>\n",
       "    <tr style=\"text-align: right;\">\n",
       "      <th></th>\n",
       "      <th>ID</th>\n",
       "      <th>Gender</th>\n",
       "    </tr>\n",
       "  </thead>\n",
       "  <tbody>\n",
       "    <tr>\n",
       "      <th>0</th>\n",
       "      <td>56</td>\n",
       "      <td>1</td>\n",
       "    </tr>\n",
       "    <tr>\n",
       "      <th>1</th>\n",
       "      <td>57</td>\n",
       "      <td>1</td>\n",
       "    </tr>\n",
       "    <tr>\n",
       "      <th>2</th>\n",
       "      <td>58</td>\n",
       "      <td>1</td>\n",
       "    </tr>\n",
       "    <tr>\n",
       "      <th>3</th>\n",
       "      <td>59</td>\n",
       "      <td>1</td>\n",
       "    </tr>\n",
       "    <tr>\n",
       "      <th>4</th>\n",
       "      <td>60</td>\n",
       "      <td>1</td>\n",
       "    </tr>\n",
       "    <tr>\n",
       "      <th>5</th>\n",
       "      <td>61</td>\n",
       "      <td>1</td>\n",
       "    </tr>\n",
       "    <tr>\n",
       "      <th>6</th>\n",
       "      <td>62</td>\n",
       "      <td>1</td>\n",
       "    </tr>\n",
       "    <tr>\n",
       "      <th>7</th>\n",
       "      <td>63</td>\n",
       "      <td>1</td>\n",
       "    </tr>\n",
       "    <tr>\n",
       "      <th>8</th>\n",
       "      <td>64</td>\n",
       "      <td>1</td>\n",
       "    </tr>\n",
       "    <tr>\n",
       "      <th>9</th>\n",
       "      <td>65</td>\n",
       "      <td>1</td>\n",
       "    </tr>\n",
       "    <tr>\n",
       "      <th>10</th>\n",
       "      <td>66</td>\n",
       "      <td>1</td>\n",
       "    </tr>\n",
       "  </tbody>\n",
       "</table>\n",
       "</div>"
      ],
      "text/plain": [
       "    ID  Gender\n",
       "0   56       1\n",
       "1   57       1\n",
       "2   58       1\n",
       "3   59       1\n",
       "4   60       1\n",
       "5   61       1\n",
       "6   62       1\n",
       "7   63       1\n",
       "8   64       1\n",
       "9   65       1\n",
       "10  66       1"
      ]
     },
     "execution_count": 22,
     "metadata": {},
     "output_type": "execute_result"
    }
   ],
   "source": [
    "sub = pd.read_csv('../input/dsm-l0-genderclassification/submission.csv')\n",
    "sub"
   ]
  },
  {
   "cell_type": "code",
   "execution_count": 23,
   "id": "c00911b7",
   "metadata": {
    "execution": {
     "iopub.execute_input": "2022-05-10T11:14:14.658487Z",
     "iopub.status.busy": "2022-05-10T11:14:14.657761Z",
     "iopub.status.idle": "2022-05-10T11:14:14.663390Z",
     "shell.execute_reply": "2022-05-10T11:14:14.662753Z",
     "shell.execute_reply.started": "2022-04-07T13:07:47.436997Z"
    },
    "papermill": {
     "duration": 0.064752,
     "end_time": "2022-05-10T11:14:14.663554",
     "exception": false,
     "start_time": "2022-05-10T11:14:14.598802",
     "status": "completed"
    },
    "tags": []
   },
   "outputs": [],
   "source": [
    "sub['Gender'] = predict\n",
    "sub['Gender'].value_counts()\n",
    "\n",
    "# Save sub file\n",
    "sub.to_csv(\"submission.csv\", index=False)"
   ]
  },
  {
   "cell_type": "markdown",
   "id": "b830a579",
   "metadata": {
    "papermill": {
     "duration": 0.053156,
     "end_time": "2022-05-10T11:14:14.770391",
     "exception": false,
     "start_time": "2022-05-10T11:14:14.717235",
     "status": "completed"
    },
    "tags": []
   },
   "source": [
    "<center>\n",
    "    <h2 style=\"color: #f48b6b\"> Thanks for reading 👍 </h2>"
   ]
  }
 ],
 "metadata": {
  "kernelspec": {
   "display_name": "Python 3",
   "language": "python",
   "name": "python3"
  },
  "language_info": {
   "codemirror_mode": {
    "name": "ipython",
    "version": 3
   },
   "file_extension": ".py",
   "mimetype": "text/x-python",
   "name": "python",
   "nbconvert_exporter": "python",
   "pygments_lexer": "ipython3",
   "version": "3.7.12"
  },
  "papermill": {
   "default_parameters": {},
   "duration": 60.124778,
   "end_time": "2022-05-10T11:14:15.734923",
   "environment_variables": {},
   "exception": null,
   "input_path": "__notebook__.ipynb",
   "output_path": "__notebook__.ipynb",
   "parameters": {},
   "start_time": "2022-05-10T11:13:15.610145",
   "version": "2.3.3"
  }
 },
 "nbformat": 4,
 "nbformat_minor": 5
}
